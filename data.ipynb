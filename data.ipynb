{
  "nbformat": 4,
  "nbformat_minor": 0,
  "metadata": {
    "colab": {
      "provenance": [],
      "include_colab_link": true
    },
    "kernelspec": {
      "name": "python3",
      "display_name": "Python 3"
    },
    "language_info": {
      "name": "python"
    }
  },
  "cells": [
    {
      "cell_type": "markdown",
      "metadata": {
        "id": "view-in-github",
        "colab_type": "text"
      },
      "source": [
        "<a href=\"https://colab.research.google.com/github/Vamshi0505/data-science/blob/main/data.ipynb\" target=\"_parent\"><img src=\"https://colab.research.google.com/assets/colab-badge.svg\" alt=\"Open In Colab\"/></a>"
      ]
    },
    {
      "cell_type": "code",
      "execution_count": null,
      "metadata": {
        "colab": {
          "base_uri": "https://localhost:8080/"
        },
        "id": "buPn1-2tcSKL",
        "outputId": "42ea910b-4d74-4108-9e4b-1eebb2c683e3"
      },
      "outputs": [
        {
          "output_type": "stream",
          "name": "stdout",
          "text": [
            "40\n"
          ]
        }
      ],
      "source": [
        "# change the function parameters if you need\n",
        "def test(a, b):\n",
        "  # write your code below this line\n",
        "\n",
        "  x = int(a)\n",
        "  y = int(b)\n",
        "\n",
        "\n",
        "  return ((x+12)**2-y**3) // 9 # write here the returned value of the function\n",
        "print(test(12,6))\n",
        "  # Write your code above this line"
      ]
    },
    {
      "cell_type": "code",
      "source": [
        "# change the function parameters if you need\n",
        "def test(str1, str2):\n",
        "  # write your code below this line\n",
        "\n",
        "\n",
        "\n",
        "  return(str1[0:3]+ str2[0:3]) # write here the returned value of the function\n",
        "  # Write your code above this line"
      ],
      "metadata": {
        "id": "_jve1wzqfdkI"
      },
      "execution_count": null,
      "outputs": []
    },
    {
      "cell_type": "code",
      "source": [
        "import random\n",
        "\n",
        "number= random.randint(1,100)\n",
        "\n",
        "print(\"Welcome to the Guess the Number game!\")\n",
        "print(\"I'm thinking of a number between 1 and 100. Can you guess what it is?\")\n",
        "while True:\n",
        "  guess = int(input(\"Enter your guess: \"))\n",
        "  if guess < number\n",
        "  print(\"Your guess is too low. Guess again\")\n",
        "  elif guess > number\n",
        "  print(\"Your guess is too high. Guess again\")\n",
        "  else:\n",
        "    print(\"Congratulations! You guessed the number correctly!\")\n"
      ],
      "metadata": {
        "id": "HvLfOICrq4_C"
      },
      "execution_count": null,
      "outputs": []
    },
    {
      "cell_type": "code",
      "source": [],
      "metadata": {
        "id": "PKfIBOXLq5NL"
      },
      "execution_count": null,
      "outputs": []
    }
  ]
}